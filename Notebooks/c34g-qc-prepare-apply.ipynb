{
 "cells": [
  {
   "cell_type": "code",
   "execution_count": 1,
   "metadata": {},
   "outputs": [],
   "source": [
    "import cmip6_cv.PrePARE.PrePARE as pp\n",
    "import subprocess\n",
    "import pandas as pd\n",
    "import git \n",
    "from shutil import copy2"
   ]
  },
  {
   "cell_type": "markdown",
   "metadata": {},
   "source": [
    "## 1. Settings. "
   ]
  },
  {
   "cell_type": "code",
   "execution_count": 2,
   "metadata": {},
   "outputs": [],
   "source": [
    "trunk=\"/mnt/lustre02/work/ik1017/CMIP6/data/\"\n",
    "prepareSetting = {\n",
    "    \"exec\" : pp.__file__ ,\n",
    "    \"logChunk\":\"/mnt/lustre02/work/ik1017/CMIP6/meta/c34g-qc-prepare/logs/\",\n",
    "    \"cmip6-cmor-table-path\" : \"/home/dkrz/k204210/cmip6-cmor-tables/Tables\" }\n",
    "dsetsinp = \"/home/dkrz/k204210/catalog-to-manifest/catalogs/wg1subset-r1-datasets-pids-clean.csv.gz\"\n",
    "recentCV = \"/home/dkrz/k204210/CMIP6-CV-20200617.json\""
   ]
  },
  {
   "cell_type": "markdown",
   "metadata": {},
   "source": [
    "## 2. Initialize"
   ]
  },
  {
   "cell_type": "code",
   "execution_count": 3,
   "metadata": {},
   "outputs": [
    {
     "data": {
      "text/plain": [
       "'/home/dkrz/k204210/CMIP6-CV-20200617.json'"
      ]
     },
     "execution_count": 3,
     "metadata": {},
     "output_type": "execute_result"
    }
   ],
   "source": [
    "dsetslist = pd.read_csv(dsetsinp)\n",
    "g = git.Git(prepareSetting[\"cmip6-cmor-table-path\"]) \n",
    "g.reset(\"--hard\")\n",
    "g.checkout(\"master\")\n",
    "copy2(prepareSetting[\"cmip6-cmor-table-path\"]+\"/CMIP6_CV.json\", recentCV)"
   ]
  },
  {
   "cell_type": "markdown",
   "metadata": {},
   "source": [
    "Convert dataset to path to data in order to apply PrePARE on it"
   ]
  },
  {
   "cell_type": "code",
   "execution_count": 4,
   "metadata": {},
   "outputs": [],
   "source": [
    "def filepathFromDset(dset) :\n",
    "    return trunk+dset[\"dataset_id\"].replace('.','/')"
   ]
  },
  {
   "cell_type": "code",
   "execution_count": 5,
   "metadata": {},
   "outputs": [],
   "source": [
    "dsetslist[\"filepath\"]=dsetslist.apply(lambda row: filepathFromDset(row), axis=1)"
   ]
  },
  {
   "cell_type": "markdown",
   "metadata": {},
   "source": [
    "## 3. Prepare PrePARE\n",
    "\n",
    "For applying PrePARE, we need the correct cmip6-cmor-tables release that matches the data_specs_version in the file."
   ]
  },
  {
   "cell_type": "code",
   "execution_count": 6,
   "metadata": {},
   "outputs": [],
   "source": [
    "tags = reversed(g.tag(\"-n\").split(\"\\n\"))\n",
    "taglist = pd.DataFrame(columns=[\"data_specs_version\",\"tag_label\",\"description\"])\n",
    "for tag in tags :\n",
    "    tl = tag.split(\" \", 1)[0]\n",
    "    tllen = len(tl.split(\".\"))\n",
    "    if tllen > 3 :\n",
    "        continue\n",
    "    dsvnumber = tl.split(\".\")[tllen-1]\n",
    "    dsvnumber = \"\".join(filter(str.isdigit, dsvnumber))\n",
    "    dsv = \"['01.00.\"+dsvnumber+\"']\"\n",
    "    if taglist[taglist[\"data_specs_version\"] == dsv].empty :\n",
    "        taglist = taglist.append({\"data_specs_version\":dsv,\n",
    "                                  \"tag_label\":tl,\n",
    "                                  \"description\":tag.split(\" \",1)[1]},\n",
    "                                 ignore_index=True)"
   ]
  },
  {
   "cell_type": "code",
   "execution_count": 7,
   "metadata": {},
   "outputs": [
    {
     "name": "stdout",
     "output_type": "stream",
     "text": [
      "   data_specs_version     tag_label  \\\n",
      "0        ['01.00.32']        6.9.32   \n",
      "1        ['01.00.31']        6.8.31   \n",
      "2        ['01.00.30']        6.6.30   \n",
      "3        ['01.00.29']        6.5.29   \n",
      "4        ['01.00.28']        6.4.28   \n",
      "5        ['01.00.27']  6.3.27-fixed   \n",
      "6        ['01.00.24']        6.2.24   \n",
      "7        ['01.00.23']        6.1.23   \n",
      "8        ['01.00.22']        6.1.22   \n",
      "9        ['01.00.21']        6.0.21   \n",
      "10       ['01.00.20']        6.0.20   \n",
      "11       ['01.00.19']       6.0.19a   \n",
      "12       ['01.00.18']        6.0.18   \n",
      "13       ['01.00.17']        6.0.17   \n",
      "14       ['01.00.16']        6.0.16   \n",
      "15       ['01.00.15']        6.0.15   \n",
      "16       ['01.00.14']        6.0.14   \n",
      "17       ['01.00.13']        6.0.13   \n",
      "18       ['01.00.12']        6.0.12   \n",
      "19       ['01.00.11']        6.0.11   \n",
      "\n",
      "                                          description  \n",
      "0            Merge pull request #311 from PCMDI/01...  \n",
      "1            Merge pull request #255 from PCMDI/cm...  \n",
      "2                                              6.6.30  \n",
      "3            Merge pull request #225 from PCMDI/01...  \n",
      "4            CMIP6_CVs-6.2.15.0/DREQ-01.00.28/CMOR...  \n",
      "5      CMIP6_CVs-6.2.11.2/DREQ-01.00.27(modified)/...  \n",
      "6            CMIP6_CVs-6.2.8.23/DREQ-01.00.24/CMOR...  \n",
      "7            CMIP6_CVs-6.2.3.1/DREQ-01.00.23/CMOR-...  \n",
      "8            CMIP6_CVs-6.2.3.1/DREQ-01.00.22/CMOR-...  \n",
      "9            CMIP6_CVs-6.2.0.11/DREQ-01.00.21/CMOR...  \n",
      "10           CMIP6_CVs-6.2.0.10/DREQ-01.00.20/CMOR...  \n",
      "11          CMIP6_CVs-6.2.0.10/DREQ-01.00.19a/CMOR...  \n",
      "12           CMIP6_CVs-6.2.0.9/DREQ-01.00.16/CMOR-...  \n",
      "13           CMIP6_CVs-6.2.0.9/DREQ-01.00.16/CMOR-...  \n",
      "14           CMIP6_CVs-6.2.0.8/DREQ-01.00.16/CMOR-...  \n",
      "15           CMIP6_CVs-6.2.0.6/DREQ-01.00.15/CMOR-...  \n",
      "16           CMIP6_CVs-6.2.0.6/DREQ-01.00.14/CMOR-...  \n",
      "17           CMIP6_CVs-6.2.0.6/DREQ-01.00.13/CMOR-...  \n",
      "18           CMIP6_CVs-6.2.0.5/DREQ-01.00.12/CMOR-...  \n",
      "19           CMIP6_CVs-6.2.0.5/DREQ-01.00.11/CMOR-...  \n"
     ]
    }
   ],
   "source": [
    "print(taglist)"
   ]
  },
  {
   "cell_type": "markdown",
   "metadata": {},
   "source": [
    "## 4. Apply PrePARE"
   ]
  },
  {
   "cell_type": "code",
   "execution_count": 11,
   "metadata": {},
   "outputs": [],
   "source": [
    "def checkSubset(tocheck):\n",
    "    for index, row in tocheck.iterrows():\n",
    "        tag2checkout = taglist[taglist[\"data_specs_version\"]==row[\"data_specs_version\"]][\"tag_label\"].to_list()\n",
    "        g.reset(\"--hard\")\n",
    "        g.checkout(tag2checkout)\n",
    "        copy2(recentCV, prepareSetting[\"cmip6-cmor-table-path\"]+\"/CMIP6_CV.json\")\n",
    "        #\n",
    "        logPath=prepareSetting[\"logChunk\"]+row[\"data_specs_version\"].split('.')[2].split(\"'\")[0]+\"/\"+row[\"dataset_id\"]\n",
    "        a = subprocess.run([prepareSetting[\"exec\"],\n",
    "                        \"-l\",logPath,\n",
    "                        \"--table-path\",prepareSetting[\"cmip6-cmor-table-path\"],\n",
    "                        row[\"filepath\"]], capture_output=True)"
   ]
  },
  {
   "cell_type": "code",
   "execution_count": 12,
   "metadata": {},
   "outputs": [],
   "source": [
    "for dsv in dsetslist[\"data_specs_version\"].unique().tolist() :\n",
    "    tocheck = dsetslist[dsetslist[\"data_specs_version\"] == dsv]\n",
    "    checkSubset(tocheck)"
   ]
  }
 ],
 "metadata": {
  "kernelspec": {
   "display_name": "Python [conda env:root] *",
   "language": "python",
   "name": "conda-root-py"
  },
  "language_info": {
   "codemirror_mode": {
    "name": "ipython",
    "version": 3
   },
   "file_extension": ".py",
   "mimetype": "text/x-python",
   "name": "python",
   "nbconvert_exporter": "python",
   "pygments_lexer": "ipython3",
   "version": "3.7.3"
  }
 },
 "nbformat": 4,
 "nbformat_minor": 4
}
