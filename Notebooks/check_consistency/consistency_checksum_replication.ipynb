{
 "cells": [
  {
   "cell_type": "code",
   "execution_count": null,
   "metadata": {},
   "outputs": [],
   "source": [
    "import pandas as pd\n",
    "import os\n",
    "import multiprocessing as mp\n",
    "import numpy as np\n",
    "import subprocess\n",
    "from pyhandle.handleclient import PyHandleClient\n",
    "from pprint import pprint"
   ]
  },
  {
   "cell_type": "code",
   "execution_count": null,
   "metadata": {},
   "outputs": [],
   "source": [
    "client = PyHandleClient('rest')"
   ]
  },
  {
   "cell_type": "code",
   "execution_count": null,
   "metadata": {},
   "outputs": [],
   "source": [
    "mip=\"CMIP\"\n",
    "outpath=\"/mnt/lustre02/work/ik1017/CMIP6/meta/c34g-qc-prepare/checksumtest/\"+\"CMIP6/\"+mip+\"/\"\n",
    "trunk=\"/mnt/lustre02/work/ik1017/CMIP6/data/\"\n",
    "path=trunk+\"CMIP6/\"+mip+'/'"
   ]
  },
  {
   "cell_type": "code",
   "execution_count": null,
   "metadata": {},
   "outputs": [],
   "source": [
    "def get_filepid(file):\n",
    "    try:        \n",
    "        ncdumpout = subprocess.check_output(['ncdump', '-h', file], shell=False, stderr=subprocess.STDOUT)\n",
    "        output = str(ncdumpout)\n",
    "        tid =\"\"\n",
    "        for item in output.split(';') :\n",
    "            if 'tracking_id =' in item :\n",
    "                tid=item\n",
    "                break\n",
    "        filepid = tid.split('\"')[1].split(':')[1]\n",
    "        if \"21.14100/\" not in filepid :\n",
    "            return \"\"\n",
    "        else :\n",
    "            return filepid\n",
    "    except:\n",
    "        return \"\""
   ]
  },
  {
   "cell_type": "code",
   "execution_count": null,
   "metadata": {},
   "outputs": [],
   "source": [
    "#get_filepid(\"/mnt/lustre02/work/ik1017/CMIP6/data/CMIP6/CMIP/MPI-M/MPI-ESM1-2-LR/historical/r1i1p1f1/Amon/tas/gn/v20190710/tas_Amon_MPI-ESM1-2-LR_historical_r1i1p1f1_gn_185001-186912.nc\")"
   ]
  },
  {
   "cell_type": "code",
   "execution_count": null,
   "metadata": {},
   "outputs": [],
   "source": [
    "def get_dataset_handle(client, inpid, dataset) :\n",
    "    try:\n",
    "        filepidhandle = client.retrieve_handle_record(inpid)\n",
    "    except:\n",
    "        print(\"Handle issue for dataset of file {0}\".format(dataset))\n",
    "        return \"\"\n",
    "    version = dataset.split('/')[16]\n",
    "    try:\n",
    "        pidlist=filepidhandle[\"IS_PART_OF\"].split(';')\n",
    "        if len(pidlist) == 1 :\n",
    "            try:\n",
    "                pidsolvable=pidlist[0][pidlist[0].find(':')+1:]\n",
    "                result2 = client.retrieve_handle_record(pidsolvable)\n",
    "                return result2\n",
    "            except:\n",
    "                print(\"The only dataset handle {0} of file {0} is invalid\"\n",
    "                         .format(pidlist[0],dataset))\n",
    "                return \"\"\n",
    "        else:\n",
    "            for pid in pidlist :\n",
    "                try:\n",
    "                    result2 = client.retrieve_handle_record(pid[pid.find(':')+1:])\n",
    "                    try:\n",
    "                        vdid = result2[\"VERSION_NUMBER\"]\n",
    "                        if version == (\"v\"+vdid) :\n",
    "                            return result2\n",
    "                    except:\n",
    "                        print(\"Handle {0} contains no version\".format(pid))\n",
    "                        return \"\"\n",
    "                except:\n",
    "                    print(\"Handle {0} is invalid\".format(pid))\n",
    "                    return \"\"\n",
    "            print(\"No fitting version for dataset {0}\".format(dataset))\n",
    "            return \"\"\n",
    "\n",
    "                \n",
    "#            while ';' in pidlist :\n",
    "#                pidlist = pidlist[pidlist.find(';')+1:]\n",
    "#                print(pidlist)\n",
    "#            return pidlist\n",
    "#\n",
    "#            if ';' in pidlist :\n",
    "#                return pidlist[0:pidlist.find(';')]\n",
    "#            else :\n",
    "#                return pidlist\n",
    "    except:\n",
    "        print(\"No Handle for dataset of file {0}\".format(dataset))\n",
    "        return \"\""
   ]
  },
  {
   "cell_type": "code",
   "execution_count": null,
   "metadata": {},
   "outputs": [],
   "source": [
    "def check_checksum(client, dsethandle,dset,filesDifferentOnMistral, filesNotOnMistral, publishReplica) :\n",
    "    hasDifference=False\n",
    "    for filepid in dsethandle[\"HAS_PARTS\"].split(';'):\n",
    "        try:\n",
    "            filehandle=client.retrieve_handle_record(filepid.split(':')[1])\n",
    "    #        print(dsethandle[\"DRS_ID\"],filehandle[\"FILE_NAME\"], filehandle[\"CHECKSUM\"], filehandle[\"FILE_SIZE\"])\n",
    "        except :\n",
    "            print(\"PID issue\")\n",
    "            hasDifference = True\n",
    "            continue\n",
    "        filepath=dset+'/'+filehandle[\"FILE_NAME\"]\n",
    "        if not os.path.isfile(filepath) :\n",
    "            filesNotOnMistral.append(filepath)\n",
    "            print(\"No file:\"+filepath)\n",
    "            hasDifference = True\n",
    "        else :\n",
    "            sizeOnMistral = subprocess.check_output(['shasum', '-a', \"256\", filepath], shell=False)\n",
    "            sizeOnMistral = str(sizeOnMistral).split(\"'\")[1].split(' ')[0]\n",
    "#            sizeOnMistral = !shasum -a 256 {filepath} | cut -d ' ' -f 1\n",
    "#            sizeOnMistral = sizeOnMistral[0]\n",
    "    #        sizeOnMistral = !du -b {trunk+dset.replace('.', '/')} | cut -d $'\\t' -f 1\n",
    "    #        sizeOnMistral = int(sizeOnMistral[0])\n",
    "    #        sizeOnMistral = !find {trunk+dset.replace('.', '/')} -type f | wc -l\n",
    "            if sizeOnMistral != filehandle[\"CHECKSUM\"] :\n",
    "                filesDifferentOnMistral.append(filepath)\n",
    "                print(sizeOnMistral, filehandle[\"CHECKSUM\"])\n",
    "                hasDifference = True\n",
    "    if not hasDifference :\n",
    "        publishReplica.append('.'.join(dset.split('/')[7:]))"
   ]
  },
  {
   "cell_type": "code",
   "execution_count": null,
   "metadata": {},
   "outputs": [],
   "source": [
    "def writefile(name, var):\n",
    "    with open(name, 'w') as f:\n",
    "        for file in var:\n",
    "            f.write(file+\"\\n\")"
   ]
  },
  {
   "cell_type": "code",
   "execution_count": null,
   "metadata": {},
   "outputs": [],
   "source": [
    "def loop_over_inst(path) :\n",
    "    global mip, outpath\n",
    "    client = PyHandleClient('rest')\n",
    "    file_without_pid=[]\n",
    "    path_without_files=[]\n",
    "    filesDifferentOnMistral = []\n",
    "    filesNotOnMistral = []\n",
    "    publishReplica = []\n",
    "    dsetPIDerror = []\n",
    "    for dirpath, dirnames, filenames in os.walk(path):\n",
    "        if len(dirnames) == 0 :\n",
    "            if len(filenames) == 0:\n",
    "                path_without_files.append(dirpath)\n",
    "            pid = \"\"\n",
    "            for filename in filenames :\n",
    "                pid = get_filepid(dirpath+\"/\"+filename)\n",
    "                if (pid) :\n",
    "                    break\n",
    "                else :\n",
    "                    file_without_pid.append(dirpath+\"/\"+filename)\n",
    "            if not pid :\n",
    "                continue\n",
    "            dsethandle = get_dataset_handle(client, pid, dirpath)\n",
    "            if not dsethandle :\n",
    "                dsetPIDerror.append(dirpath)\n",
    "                continue\n",
    "            check_checksum(client, dsethandle, dirpath, filesDifferentOnMistral, filesNotOnMistral, publishReplica)\n",
    "    writefile(outpath+'fileWithoutPID/'+path.split('/')[len(path.split('/'))-1]+'.txt', file_without_pid)\n",
    "    writefile(outpath+'pathWithoutFiles/'+path.split('/')[len(path.split('/'))-1]+'.txt', path_without_files)\n",
    "    writefile(outpath+'filesDifferentOnMistral/'+path.split('/')[len(path.split('/'))-1]+'.txt', filesDifferentOnMistral)\n",
    "    writefile(outpath+'filesNotOnMistral/'+path.split('/')[len(path.split('/'))-1]+'.txt', filesNotOnMistral)\n",
    "    writefile(outpath+'publishReplica/'+path.split('/')[len(path.split('/'))-1]+'.txt', publishReplica)\n",
    "    writefile(outpath+'dsetPIDerror/'+path.split('/')[len(path.split('/'))-1]+'.txt', dsetPIDerror)"
   ]
  },
  {
   "cell_type": "code",
   "execution_count": null,
   "metadata": {},
   "outputs": [],
   "source": [
    "inst = [path + ins for ins in os.listdir(path) if ins not in [ ofile.split('.')[0] for ofile in os.listdir(outpath+'dsetPIDerror/')] ]\n",
    "print(inst)"
   ]
  },
  {
   "cell_type": "code",
   "execution_count": null,
   "metadata": {},
   "outputs": [],
   "source": [
    "#\n",
    "#maxworker=mp.cpu_count()\n",
    "limitworker=20\n",
    "if len(inst) < limitworker :\n",
    "    maxworker = len(inst)\n",
    "else :\n",
    "    maxworker=limitworker\n",
    "pool = mp.Pool(maxworker)    "
   ]
  },
  {
   "cell_type": "code",
   "execution_count": null,
   "metadata": {},
   "outputs": [],
   "source": [
    "for direct in [ outpath + subdir for subdir in [\"fileWithoutPID\", \"pathWithoutFiles\", \"filesDifferentOnMistral\", \"filesNotOnMistral\", \"publishReplica\", \"dsetPIDerror\"] ] :\n",
    "    if not os.path.exists(direct):\n",
    "        os.makedirs(direct)"
   ]
  },
  {
   "cell_type": "code",
   "execution_count": null,
   "metadata": {},
   "outputs": [],
   "source": [
    "results = [pool.map(loop_over_inst, [path for path in inst])]\n",
    "#loop_over_inst(path+\"MPI-M\")\n",
    "\n",
    "pool.close()"
   ]
  },
  {
   "cell_type": "code",
   "execution_count": null,
   "metadata": {},
   "outputs": [],
   "source": []
  }
 ],
 "metadata": {
  "kernelspec": {
   "display_name": "Python [conda env:root] *",
   "language": "python",
   "name": "conda-root-py"
  },
  "language_info": {
   "codemirror_mode": {
    "name": "ipython",
    "version": 3
   },
   "file_extension": ".py",
   "mimetype": "text/x-python",
   "name": "python",
   "nbconvert_exporter": "python",
   "pygments_lexer": "ipython3",
   "version": "3.7.3"
  }
 },
 "nbformat": 4,
 "nbformat_minor": 4
}
