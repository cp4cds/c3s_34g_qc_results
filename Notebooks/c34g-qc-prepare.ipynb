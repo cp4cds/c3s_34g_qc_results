{
 "cells": [
  {
   "cell_type": "code",
   "execution_count": null,
   "metadata": {},
   "outputs": [],
   "source": [
    "import cmip6_cv.PrePARE.PrePARE as pp\n",
    "import subprocess\n",
    "import pandas as pd\n",
    "import git \n",
    "from shutil import copy2"
   ]
  },
  {
   "cell_type": "markdown",
   "metadata": {},
   "source": [
    "## 1. Settings. "
   ]
  },
  {
   "cell_type": "code",
   "execution_count": null,
   "metadata": {},
   "outputs": [],
   "source": [
    "trunk=\"/mnt/lustre02/work/ik1017/CMIP6/data/\"\n",
    "prepareSetting = {\n",
    "    \"exec\" : pp.__file__ ,\n",
    "    \"logChunk\":\"/mnt/lustre02/work/ik1017/CMIP6/meta/tools/c34g-qc-prepare/logs/\",\n",
    "    \"cmip6-cmor-table-path\" : \"/home/dkrz/k204210/cmip6-cmor-tables/Tables\" }\n",
    "dsetsinp = \"/home/dkrz/k204210/catalog-to-manifest/catalogs/wg1subset-r1-datasets-pids-clean.csv.gz\"\n",
    "recentCV = \"/home/dkrz/k204210/CMIP6-CV-20200617.json\""
   ]
  },
  {
   "cell_type": "markdown",
   "metadata": {},
   "source": [
    "## 2. Initialize"
   ]
  },
  {
   "cell_type": "code",
   "execution_count": null,
   "metadata": {},
   "outputs": [],
   "source": [
    "dsetslist = pd.read_csv(dsetsinp)\n",
    "g = git.Git(prepareSetting[\"cmip6-cmor-table-path\"]) \n",
    "g.reset(\"--hard\")\n",
    "g.checkout(\"master\")\n",
    "copy2(prepareSetting[\"cmip6-cmor-table-path\"]+\"/CMIP6_CV.json\", recentCV)"
   ]
  },
  {
   "cell_type": "markdown",
   "metadata": {},
   "source": [
    "Convert dataset to path to data in order to apply PrePARE on it"
   ]
  },
  {
   "cell_type": "code",
   "execution_count": null,
   "metadata": {},
   "outputs": [],
   "source": [
    "def filepathFromDset(dset) :\n",
    "    return trunk+dset[\"dataset_id\"].replace('.','/')"
   ]
  },
  {
   "cell_type": "code",
   "execution_count": null,
   "metadata": {},
   "outputs": [],
   "source": [
    "dsetslist[\"filepath\"]=dsetslist.apply(lambda row: filepathFromDset(row), axis=1)"
   ]
  },
  {
   "cell_type": "markdown",
   "metadata": {},
   "source": [
    "## 3. Prepare PrePARE\n",
    "\n",
    "For applying PrePARE, we need the correct cmip6-cmor-tables release that matches the data_specs_version in the file."
   ]
  },
  {
   "cell_type": "code",
   "execution_count": null,
   "metadata": {},
   "outputs": [],
   "source": [
    "tags = reversed(g.tag(\"-n\").split(\"\\n\"))\n",
    "taglist = pd.DataFrame(columns=[\"data_specs_version\",\"tag_label\",\"description\"])\n",
    "for tag in tags :\n",
    "    tl = tag.split(\" \", 1)[0]\n",
    "    tllen = len(tl.split(\".\"))\n",
    "    if tllen > 3 :\n",
    "        continue\n",
    "    dsvnumber = tl.split(\".\")[tllen-1]\n",
    "    dsvnumber = \"\".join(filter(str.isdigit, dsvnumber))\n",
    "    dsv = \"['01.00.\"+dsvnumber+\"']\"\n",
    "    if taglist[taglist[\"data_specs_version\"] == dsv].empty :\n",
    "        taglist = taglist.append({\"data_specs_version\":dsv,\n",
    "                                  \"tag_label\":tl,\n",
    "                                  \"description\":tag.split(\" \",1)[1]},\n",
    "                                 ignore_index=True)"
   ]
  },
  {
   "cell_type": "code",
   "execution_count": null,
   "metadata": {},
   "outputs": [],
   "source": [
    "print(taglist)"
   ]
  },
  {
   "cell_type": "markdown",
   "metadata": {},
   "source": [
    "## 4. Apply PrePARE"
   ]
  },
  {
   "cell_type": "code",
   "execution_count": null,
   "metadata": {},
   "outputs": [],
   "source": [
    "def checkSubset(tocheck):\n",
    "    check100 = 0\n",
    "    for index, row in tocheck.iterrows():\n",
    "        tag2checkout = taglist[taglist[\"data_specs_version\"]==row[\"data_specs_version\"]][\"tag_label\"].to_list()\n",
    "        g.reset(\"--hard\")\n",
    "        g.checkout(tag2checkout)\n",
    "        copy2(recentCV, prepareSetting[\"cmip6-cmor-table-path\"]+\"/CMIP6_CV.json\")\n",
    "        #\n",
    "        logPath=prepareSetting[\"logChunk\"]+row[\"data_specs_version\"].split('.')[2].split(\"'\")[0]+\"/\"+row[\"dataset_id\"]\n",
    "        a = subprocess.run([prepareSetting[\"exec\"],\n",
    "                        \"-l\",logPath,\n",
    "                        \"--table-path\",prepareSetting[\"cmip6-cmor-table-path\"],\n",
    "                        row[\"filepath\"]], capture_output=True)\n",
    "        check100+=1\n",
    "        if check100 == 100 :\n",
    "            break"
   ]
  },
  {
   "cell_type": "code",
   "execution_count": null,
   "metadata": {},
   "outputs": [],
   "source": [
    "for dsv in dsetslist[\"data_specs_version\"].unique().tolist() :\n",
    "    tocheck = dsetslist[dsetslist[\"data_specs_version\"] == dsv]\n",
    "    checkSubset(tocheck)"
   ]
  },
  {
   "cell_type": "code",
   "execution_count": null,
   "metadata": {},
   "outputs": [],
   "source": []
  },
  {
   "cell_type": "code",
   "execution_count": null,
   "metadata": {},
   "outputs": [],
   "source": []
  }
 ],
 "metadata": {
  "kernelspec": {
   "display_name": "Python [conda env:root] *",
   "language": "python",
   "name": "conda-root-py"
  },
  "language_info": {
   "codemirror_mode": {
    "name": "ipython",
    "version": 3
   },
   "file_extension": ".py",
   "mimetype": "text/x-python",
   "name": "python",
   "nbconvert_exporter": "python",
   "pygments_lexer": "ipython3",
   "version": "3.7.3"
  }
 },
 "nbformat": 4,
 "nbformat_minor": 4
}
