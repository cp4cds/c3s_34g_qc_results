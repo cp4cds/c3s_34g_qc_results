{
 "cells": [
  {
   "cell_type": "code",
   "execution_count": null,
   "metadata": {},
   "outputs": [],
   "source": [
    "import cmip6_cv.PrePARE.PrePARE as pp\n",
    "#import subprocess\n",
    "import pandas as pd\n",
    "import re\n",
    "from os import listdir, walk\n",
    "from os.path import isfile, join\n",
    "import json"
   ]
  },
  {
   "cell_type": "markdown",
   "metadata": {},
   "source": [
    "## 1. Environment definitions"
   ]
  },
  {
   "cell_type": "code",
   "execution_count": null,
   "metadata": {},
   "outputs": [],
   "source": [
    "trunk=\"/mnt/lustre02/work/ik1017/CMIP6/data/\"\n",
    "dsetsinp = \"/home/dkrz/k204210/catalog-to-manifest/catalogs/wg1subset-r1-datasets-pids-clean.csv.gz\"\n",
    "prepareSetting = {\n",
    "    \"exec\" : pp.__file__ ,\n",
    "    \"logChunk\":\"/mnt/lustre02/work/ik1017/CMIP6/meta/c34g-qc-prepare/logs/\",\n",
    "    \"cmip6-cmor-table-path\" : \"/home/dkrz/k204210/cmip6-cmor-tables/Tables\" }"
   ]
  },
  {
   "cell_type": "markdown",
   "metadata": {},
   "source": [
    "## 2. QC settings"
   ]
  },
  {
   "cell_type": "code",
   "execution_count": null,
   "metadata": {},
   "outputs": [],
   "source": [
    "errorSeverity=[\"Passed\", \"Minor Issue\", \"Major Issue\"]\n",
    "parsedict={\"meta\": [\"filename\", \"creation_date\", \"dset_id\", \"specs_version\"],\n",
    "           \"filenoDict\":{\"checked\": 'files scanned: (\\d+)',\n",
    "                        \"failed\": 'with error\\(s\\): (\\d+)'\n",
    "                       },\n",
    "           \"errorDict\":{\"filename\": 2,\n",
    "                        \"Warning\" : 1,\n",
    "                        \"CV FAIL\" : 1,\n",
    "                        \"Permission denied\" : 2,\n",
    "                        \"not understood\" : 2,\n",
    "                        \"SKIPPED\" : 2},\n",
    "          }"
   ]
  },
  {
   "cell_type": "markdown",
   "metadata": {},
   "source": [
    "## 3. Function definitions"
   ]
  },
  {
   "cell_type": "code",
   "execution_count": null,
   "metadata": {},
   "outputs": [],
   "source": [
    "def collect_errors(dset_entry) :\n",
    "    errors=[]\n",
    "    max_severity=0\n",
    "    for line in open(dset_entry[\"logfile_name\"]):\n",
    "        for errorKeyword in parsedict[\"errorDict\"].keys() :\n",
    "            match = re.findall(errorKeyword, line)\n",
    "            if match:\n",
    "                errors.append(errorKeyword)\n",
    "                max_severity=max(max_severity,int(parsedict[\"errorDict\"][errorKeyword]))\n",
    "    dset_entry[\"errors\"]=tuple(errors)\n",
    "    dset_entry[\"max_severity\"]=max_severity"
   ]
  },
  {
   "cell_type": "code",
   "execution_count": null,
   "metadata": {},
   "outputs": [],
   "source": [
    "def parse_file(dset_entry):\n",
    "    checkedFiles=[]\n",
    "    failedFiles=[]\n",
    "    for line in open(dset_entry[\"logfile_name\"]):\n",
    "        match = re.search(parsedict[\"filenoDict\"][\"checked\"], line)\n",
    "        if match:\n",
    "            checkedFiles.append(''.join(match.group(1)))\n",
    "        match = re.search(parsedict[\"filenoDict\"][\"failed\"], line)\n",
    "        if match:\n",
    "            failedFiles.append(''.join(match.group(1)))\n",
    "    if not checkedFiles or not failedFiles :\n",
    "        print(dset_entry[\"logfile_name\"], checkedFiles, failedFiles)\n",
    "    dset_entry[\"checked\"]=int(checkedFiles[0])\n",
    "    dset_entry[\"failed\"]=int(failedFiles[0])\n",
    "    dset_entry[\"passed\"]=dset_entry[\"checked\"]-dset_entry[\"failed\"]\n",
    "    if not dset_entry[\"failed\"] == 0 :\n",
    "        collect_errors(dset_entry)        "
   ]
  },
  {
   "cell_type": "markdown",
   "metadata": {},
   "source": [
    "## 4. Create a Manifest file"
   ]
  },
  {
   "cell_type": "code",
   "execution_count": null,
   "metadata": {},
   "outputs": [],
   "source": [
    "c3s_qc_prepare_dict = {}"
   ]
  },
  {
   "cell_type": "code",
   "execution_count": null,
   "metadata": {},
   "outputs": [],
   "source": [
    "dsetslist = pd.read_csv(dsetsinp)"
   ]
  },
  {
   "cell_type": "code",
   "execution_count": null,
   "metadata": {},
   "outputs": [],
   "source": [
    "dsetslist.head()"
   ]
  },
  {
   "cell_type": "code",
   "execution_count": null,
   "metadata": {},
   "outputs": [],
   "source": [
    "specs_paths=listdir(prepareSetting[\"logChunk\"])\n",
    "for specs_path in specs_paths:\n",
    "    for dirpath, dirnames, logfile_names in walk(join(prepareSetting[\"logChunk\"], specs_path)):\n",
    "        for logfile_name in logfile_names :\n",
    "            dset_entry = {\"logfile_name\":join(dirpath, logfile_name),\n",
    "                          \"creation_date\":logfile_name.split(\".\")[0].split(\"-\")[1],\n",
    "                          \"dset_id\":dirpath[len(join(prepareSetting[\"logChunk\"], specs_path))+1:],\n",
    "                          \"specs_version\": \"01.00.\"+specs_path}\n",
    "            pid=dsetslist[dsetslist[\"dataset_id\"]==dset_entry[\"dset_id\"]][\"pid\"].tolist()\n",
    "            if not len(pid) == 1 :\n",
    "                pid = \"nan\"\n",
    "            else :\n",
    "                pid = pid[0]\n",
    "            parse_file(dset_entry)\n",
    "            c3s_qc_prepare_dict[pid]=dset_entry"
   ]
  },
  {
   "cell_type": "code",
   "execution_count": null,
   "metadata": {},
   "outputs": [],
   "source": [
    "c3s_qc_prepare = pd.DataFrame.from_dict(c3s_qc_prepare_dict, orient=\"index\")\n",
    "c3s_qc_prepare.index.name=\"pid\""
   ]
  },
  {
   "cell_type": "markdown",
   "metadata": {},
   "source": [
    "## 5. Reformat and subset for first delivery"
   ]
  },
  {
   "cell_type": "code",
   "execution_count": null,
   "metadata": {},
   "outputs": [],
   "source": [
    "FirstDelivery=\"/home/dkrz/k204210/c3s_34g_qc_results/Catalogs/c3s34g-release1-datasets_v0.csv\"\n",
    "dsetslistFirstDelivery = pd.read_csv(FirstDelivery, names=[\"dataset_id\", \"pid\"])"
   ]
  },
  {
   "cell_type": "code",
   "execution_count": null,
   "metadata": {},
   "outputs": [],
   "source": [
    "c3s_qc_prepare_firstdelivery = c3s_qc_prepare[[\"dset_id\", \"failed\"]].rename(columns={\"failed\": \"qc_status\"})\n",
    "c3s_qc_prepare_firstdelivery.loc[c3s_qc_prepare_firstdelivery.qc_status > 0, 'qc_status'] = \"ERROR\"\n",
    "c3s_qc_prepare_firstdelivery['qc_status'] = c3s_qc_prepare_firstdelivery['qc_status'].replace(0, value='pass')"
   ]
  },
  {
   "cell_type": "code",
   "execution_count": null,
   "metadata": {},
   "outputs": [],
   "source": [
    "c3s_qc_prepare_firstdelivery = c3s_qc_prepare_firstdelivery[c3s_qc_prepare_firstdelivery.index.isin(dsetslistFirstDelivery[\"pid\"])]"
   ]
  },
  {
   "cell_type": "code",
   "execution_count": null,
   "metadata": {},
   "outputs": [],
   "source": [
    "c3s_qc_prepare_firstdelivery[c3s_qc_prepare_firstdelivery[\"qc_status\"] != \"pass\"]"
   ]
  },
  {
   "cell_type": "code",
   "execution_count": null,
   "metadata": {},
   "outputs": [],
   "source": [
    "c3s_qc_prepare_firstdelivery.to_json(\"/home/dkrz/k204210/c3s_34g_qc_results/QC_Results/QC_prepare.json\", orient=\"index\")"
   ]
  },
  {
   "cell_type": "code",
   "execution_count": null,
   "metadata": {},
   "outputs": [],
   "source": [
    "c3serr = c3s_qc_prepare[c3s_qc_prepare[\"failed\"]!= 0]"
   ]
  },
  {
   "cell_type": "code",
   "execution_count": null,
   "metadata": {},
   "outputs": [],
   "source": [
    "print(len(c3serr))"
   ]
  },
  {
   "cell_type": "code",
   "execution_count": null,
   "metadata": {},
   "outputs": [],
   "source": [
    "c3serrgb = c3serr.groupby(\"errors\")"
   ]
  },
  {
   "cell_type": "code",
   "execution_count": null,
   "metadata": {},
   "outputs": [],
   "source": [
    "print(c3serr[c3serr['errors'] == ()][\"logfile_name\"].tolist())"
   ]
  },
  {
   "cell_type": "code",
   "execution_count": null,
   "metadata": {},
   "outputs": [],
   "source": [
    "print(c3serr[c3serr['errors'].str.contains(\"SKIPPED\")])"
   ]
  },
  {
   "cell_type": "code",
   "execution_count": null,
   "metadata": {},
   "outputs": [],
   "source": []
  }
 ],
 "metadata": {
  "kernelspec": {
   "display_name": "Python [conda env:root] *",
   "language": "python",
   "name": "conda-root-py"
  },
  "language_info": {
   "codemirror_mode": {
    "name": "ipython",
    "version": 3
   },
   "file_extension": ".py",
   "mimetype": "text/x-python",
   "name": "python",
   "nbconvert_exporter": "python",
   "pygments_lexer": "ipython3",
   "version": "3.7.3"
  }
 },
 "nbformat": 4,
 "nbformat_minor": 4
}
