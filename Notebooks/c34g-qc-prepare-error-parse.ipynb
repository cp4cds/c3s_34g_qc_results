{
 "cells": [
  {
   "cell_type": "code",
   "execution_count": 1,
   "metadata": {},
   "outputs": [],
   "source": [
    "import cmip6_cv.PrePARE.PrePARE as pp\n",
    "#import subprocess\n",
    "import pandas as pd\n",
    "import re\n",
    "from os import listdir, walk\n",
    "from os.path import isfile, join\n",
    "import json"
   ]
  },
  {
   "cell_type": "markdown",
   "metadata": {},
   "source": [
    "## 1. Environment definitions"
   ]
  },
  {
   "cell_type": "code",
   "execution_count": 2,
   "metadata": {},
   "outputs": [],
   "source": [
    "trunk=\"/mnt/lustre02/work/ik1017/CMIP6/data/\"\n",
    "dsetsinp = \"/home/dkrz/k204210/catalog-to-manifest/catalogs/wg1subset-r1-datasets-pids-clean.csv.gz\"\n",
    "prepareSetting = {\n",
    "    \"exec\" : pp.__file__ ,\n",
    "    \"logChunk\":\"/mnt/lustre02/work/ik1017/CMIP6/meta/c34g-qc-prepare/logs/\",\n",
    "    \"cmip6-cmor-table-path\" : \"/home/dkrz/k204210/cmip6-cmor-tables/Tables\" }"
   ]
  },
  {
   "cell_type": "markdown",
   "metadata": {},
   "source": [
    "## 2. QC settings"
   ]
  },
  {
   "cell_type": "code",
   "execution_count": 3,
   "metadata": {},
   "outputs": [],
   "source": [
    "errorSeverity=[\"Passed\", \"Minor Issue\", \"Major Issue\"]\n",
    "parsedict={\"meta\": [\"filename\", \"creation_date\", \"dset_id\", \"specs_version\"],\n",
    "           \"filenoDict\":{\"checked\": 'files scanned: (\\d+)',\n",
    "                        \"failed\": 'with error\\(s\\): (\\d+)'\n",
    "                       },\n",
    "           \"errorDict\":{\"filename\": 2,\n",
    "                        \"Warning\" : 1,\n",
    "                        \"CV FAIL\" : 1,\n",
    "                        \"Permission denied\" : 2,\n",
    "                        \"not understood\" : 2,\n",
    "                        \"SKIPPED\" : 2},\n",
    "          }"
   ]
  },
  {
   "cell_type": "markdown",
   "metadata": {},
   "source": [
    "## 3. Function definitions"
   ]
  },
  {
   "cell_type": "code",
   "execution_count": 4,
   "metadata": {},
   "outputs": [],
   "source": [
    "def collect_errors(dset_entry) :\n",
    "    errors=[]\n",
    "    max_severity=0\n",
    "    for line in open(dset_entry[\"logfile_name\"]):\n",
    "        for errorKeyword in parsedict[\"errorDict\"].keys() :\n",
    "            match = re.findall(errorKeyword, line)\n",
    "            if match:\n",
    "                errors.append(errorKeyword)\n",
    "                max_severity=max(max_severity,int(parsedict[\"errorDict\"][errorKeyword]))\n",
    "    dset_entry[\"errors\"]=tuple(errors)\n",
    "    dset_entry[\"max_severity\"]=max_severity"
   ]
  },
  {
   "cell_type": "code",
   "execution_count": 5,
   "metadata": {},
   "outputs": [],
   "source": [
    "def parse_file(dset_entry):\n",
    "    checkedFiles=[]\n",
    "    failedFiles=[]\n",
    "    for line in open(dset_entry[\"logfile_name\"]):\n",
    "        match = re.search(parsedict[\"filenoDict\"][\"checked\"], line)\n",
    "        if match:\n",
    "            checkedFiles.append(''.join(match.group(1)))\n",
    "        match = re.search(parsedict[\"filenoDict\"][\"failed\"], line)\n",
    "        if match:\n",
    "            failedFiles.append(''.join(match.group(1)))\n",
    "    if not checkedFiles or not failedFiles :\n",
    "        print(dset_entry[\"logfile_name\"], checkedFiles, failedFiles)\n",
    "    dset_entry[\"checked\"]=int(checkedFiles[0])\n",
    "    dset_entry[\"failed\"]=int(failedFiles[0])\n",
    "    dset_entry[\"passed\"]=dset_entry[\"checked\"]-dset_entry[\"failed\"]\n",
    "    if not dset_entry[\"failed\"] == 0 :\n",
    "        collect_errors(dset_entry)        "
   ]
  },
  {
   "cell_type": "markdown",
   "metadata": {},
   "source": [
    "## 4. Create a Manifest file"
   ]
  },
  {
   "cell_type": "code",
   "execution_count": 6,
   "metadata": {},
   "outputs": [],
   "source": [
    "c3s_qc_prepare_dict = {}"
   ]
  },
  {
   "cell_type": "code",
   "execution_count": 7,
   "metadata": {},
   "outputs": [],
   "source": [
    "dsetslist = pd.read_csv(dsetsinp)"
   ]
  },
  {
   "cell_type": "code",
   "execution_count": 8,
   "metadata": {},
   "outputs": [
    {
     "data": {
      "text/html": [
       "<div>\n",
       "<style scoped>\n",
       "    .dataframe tbody tr th:only-of-type {\n",
       "        vertical-align: middle;\n",
       "    }\n",
       "\n",
       "    .dataframe tbody tr th {\n",
       "        vertical-align: top;\n",
       "    }\n",
       "\n",
       "    .dataframe thead th {\n",
       "        text-align: right;\n",
       "    }\n",
       "</style>\n",
       "<table border=\"1\" class=\"dataframe\">\n",
       "  <thead>\n",
       "    <tr style=\"text-align: right;\">\n",
       "      <th></th>\n",
       "      <th>dataset_id</th>\n",
       "      <th>data_specs_version</th>\n",
       "      <th>pid</th>\n",
       "    </tr>\n",
       "  </thead>\n",
       "  <tbody>\n",
       "    <tr>\n",
       "      <th>0</th>\n",
       "      <td>CMIP6.OMIP.NOAA-GFDL.GFDL-OM4p5B.omip1.r1i1p1f...</td>\n",
       "      <td>['01.00.27']</td>\n",
       "      <td>hdl:21.14100/64206ff6-979d-3fd2-b337-8f1803ac0abf</td>\n",
       "    </tr>\n",
       "    <tr>\n",
       "      <th>1</th>\n",
       "      <td>CMIP6.OMIP.NOAA-GFDL.GFDL-OM4p5B.omip1.r1i1p1f...</td>\n",
       "      <td>['01.00.27']</td>\n",
       "      <td>hdl:21.14100/6af7045e-df4b-3728-89a7-277d911ea3e7</td>\n",
       "    </tr>\n",
       "    <tr>\n",
       "      <th>2</th>\n",
       "      <td>CMIP6.OMIP.NOAA-GFDL.GFDL-OM4p5B.omip1.r1i1p1f...</td>\n",
       "      <td>['01.00.27']</td>\n",
       "      <td>hdl:21.14100/fd3e752b-2b1d-31c0-b3d5-15bd8df6dae8</td>\n",
       "    </tr>\n",
       "    <tr>\n",
       "      <th>3</th>\n",
       "      <td>CMIP6.OMIP.NOAA-GFDL.GFDL-OM4p5B.omip1.r1i1p1f...</td>\n",
       "      <td>['01.00.27']</td>\n",
       "      <td>hdl:21.14100/7a45f846-91d1-3ed7-890a-bb2070a34a35</td>\n",
       "    </tr>\n",
       "    <tr>\n",
       "      <th>4</th>\n",
       "      <td>CMIP6.OMIP.NOAA-GFDL.GFDL-OM4p5B.omip1.r1i1p1f...</td>\n",
       "      <td>['01.00.27']</td>\n",
       "      <td>hdl:21.14100/1e3f80c4-9b1a-323f-8614-d70bd65734ce</td>\n",
       "    </tr>\n",
       "  </tbody>\n",
       "</table>\n",
       "</div>"
      ],
      "text/plain": [
       "                                          dataset_id data_specs_version  \\\n",
       "0  CMIP6.OMIP.NOAA-GFDL.GFDL-OM4p5B.omip1.r1i1p1f...       ['01.00.27']   \n",
       "1  CMIP6.OMIP.NOAA-GFDL.GFDL-OM4p5B.omip1.r1i1p1f...       ['01.00.27']   \n",
       "2  CMIP6.OMIP.NOAA-GFDL.GFDL-OM4p5B.omip1.r1i1p1f...       ['01.00.27']   \n",
       "3  CMIP6.OMIP.NOAA-GFDL.GFDL-OM4p5B.omip1.r1i1p1f...       ['01.00.27']   \n",
       "4  CMIP6.OMIP.NOAA-GFDL.GFDL-OM4p5B.omip1.r1i1p1f...       ['01.00.27']   \n",
       "\n",
       "                                                 pid  \n",
       "0  hdl:21.14100/64206ff6-979d-3fd2-b337-8f1803ac0abf  \n",
       "1  hdl:21.14100/6af7045e-df4b-3728-89a7-277d911ea3e7  \n",
       "2  hdl:21.14100/fd3e752b-2b1d-31c0-b3d5-15bd8df6dae8  \n",
       "3  hdl:21.14100/7a45f846-91d1-3ed7-890a-bb2070a34a35  \n",
       "4  hdl:21.14100/1e3f80c4-9b1a-323f-8614-d70bd65734ce  "
      ]
     },
     "execution_count": 8,
     "metadata": {},
     "output_type": "execute_result"
    }
   ],
   "source": [
    "dsetslist.head()"
   ]
  },
  {
   "cell_type": "code",
   "execution_count": 9,
   "metadata": {},
   "outputs": [],
   "source": [
    "specs_paths=listdir(prepareSetting[\"logChunk\"])\n",
    "for specs_path in specs_paths:\n",
    "    for dirpath, dirnames, logfile_names in walk(join(prepareSetting[\"logChunk\"], specs_path)):\n",
    "        for logfile_name in logfile_names :\n",
    "            dset_entry = {\"logfile_name\":join(dirpath, logfile_name),\n",
    "                          \"creation_date\":logfile_name.split(\".\")[0].split(\"-\")[1],\n",
    "                          \"dset_id\":dirpath[len(join(prepareSetting[\"logChunk\"], specs_path))+1:],\n",
    "                          \"specs_version\": \"01.00.\"+specs_path}\n",
    "            pid=dsetslist[dsetslist[\"dataset_id\"]==dset_entry[\"dset_id\"]][\"pid\"].tolist()\n",
    "            if not len(pid) == 1 :\n",
    "                pid = \"nan\"\n",
    "            else :\n",
    "                pid = pid[0]\n",
    "            parse_file(dset_entry)\n",
    "            c3s_qc_prepare_dict[pid]=dset_entry"
   ]
  },
  {
   "cell_type": "code",
   "execution_count": 35,
   "metadata": {},
   "outputs": [],
   "source": [
    "c3s_qc_prepare = pd.DataFrame.from_dict(c3s_qc_prepare_dict, orient=\"index\")\n",
    "c3s_qc_prepare.index.name=\"pid\""
   ]
  },
  {
   "cell_type": "markdown",
   "metadata": {},
   "source": [
    "## 5. Reformat and subset for first delivery"
   ]
  },
  {
   "cell_type": "code",
   "execution_count": 52,
   "metadata": {},
   "outputs": [],
   "source": [
    "FirstDelivery=\"/home/dkrz/k204210/c3s_34g_qc_results/Catalogs/c3s34g-release1-datasets_v0.csv\"\n",
    "dsetslistFirstDelivery = pd.read_csv(FirstDelivery, names=[\"dataset_id\", \"pid\"])"
   ]
  },
  {
   "cell_type": "code",
   "execution_count": 48,
   "metadata": {},
   "outputs": [],
   "source": [
    "c3s_qc_prepare_firstdelivery = c3s_qc_prepare[[\"dset_id\", \"failed\"]].rename(columns={\"failed\": \"qc_status\"})\n",
    "c3s_qc_prepare_firstdelivery.loc[c3s_qc_prepare_firstdelivery.qc_status > 0, 'qc_status'] = \"ERROR\"\n",
    "c3s_qc_prepare_firstdelivery['qc_status'] = c3s_qc_prepare_firstdelivery['qc_status'].replace(0, value='pass')"
   ]
  },
  {
   "cell_type": "code",
   "execution_count": 59,
   "metadata": {},
   "outputs": [],
   "source": [
    "c3s_qc_prepare_firstdelivery = c3s_qc_prepare_firstdelivery[c3s_qc_prepare_firstdelivery.index.isin(dsetslistFirstDelivery[\"pid\"])]"
   ]
  },
  {
   "cell_type": "code",
   "execution_count": 62,
   "metadata": {},
   "outputs": [
    {
     "data": {
      "text/html": [
       "<div>\n",
       "<style scoped>\n",
       "    .dataframe tbody tr th:only-of-type {\n",
       "        vertical-align: middle;\n",
       "    }\n",
       "\n",
       "    .dataframe tbody tr th {\n",
       "        vertical-align: top;\n",
       "    }\n",
       "\n",
       "    .dataframe thead th {\n",
       "        text-align: right;\n",
       "    }\n",
       "</style>\n",
       "<table border=\"1\" class=\"dataframe\">\n",
       "  <thead>\n",
       "    <tr style=\"text-align: right;\">\n",
       "      <th></th>\n",
       "      <th>dset_id</th>\n",
       "      <th>qc_status</th>\n",
       "    </tr>\n",
       "    <tr>\n",
       "      <th>pid</th>\n",
       "      <th></th>\n",
       "      <th></th>\n",
       "    </tr>\n",
       "  </thead>\n",
       "  <tbody>\n",
       "    <tr>\n",
       "      <th>hdl:21.14100/9c721b03-8789-3e90-ad61-76045e5dcaf1</th>\n",
       "      <td>CMIP6.ScenarioMIP.IPSL.IPSL-CM6A-LR.ssp434.r1i...</td>\n",
       "      <td>ERROR</td>\n",
       "    </tr>\n",
       "    <tr>\n",
       "      <th>hdl:21.14100/9233828e-782f-328b-a3e4-38965e69eb08</th>\n",
       "      <td>CMIP6.ScenarioMIP.IPSL.IPSL-CM6A-LR.ssp245.r1i...</td>\n",
       "      <td>ERROR</td>\n",
       "    </tr>\n",
       "    <tr>\n",
       "      <th>hdl:21.14100/0a682a4a-e720-367c-957f-e82d13b2b304</th>\n",
       "      <td>CMIP6.ScenarioMIP.IPSL.IPSL-CM6A-LR.ssp245.r1i...</td>\n",
       "      <td>ERROR</td>\n",
       "    </tr>\n",
       "    <tr>\n",
       "      <th>hdl:21.14100/af5fc835-3047-32b5-8500-4a868e8660a0</th>\n",
       "      <td>CMIP6.ScenarioMIP.IPSL.IPSL-CM6A-LR.ssp534-ove...</td>\n",
       "      <td>ERROR</td>\n",
       "    </tr>\n",
       "    <tr>\n",
       "      <th>hdl:21.14100/37272d35-0a59-37f0-8f42-fdf80f7039ec</th>\n",
       "      <td>CMIP6.ScenarioMIP.IPSL.IPSL-CM6A-LR.ssp585.r1i...</td>\n",
       "      <td>ERROR</td>\n",
       "    </tr>\n",
       "    <tr>\n",
       "      <th>...</th>\n",
       "      <td>...</td>\n",
       "      <td>...</td>\n",
       "    </tr>\n",
       "    <tr>\n",
       "      <th>hdl:21.14100/fde1d1b4-23ed-378b-8e41-ac6b5330c18d</th>\n",
       "      <td>CMIP6.ScenarioMIP.FIO-QLNM.FIO-ESM-2-0.ssp126....</td>\n",
       "      <td>ERROR</td>\n",
       "    </tr>\n",
       "    <tr>\n",
       "      <th>hdl:21.14100/4b9b913e-71fd-3e68-b6c6-09407ec25ba3</th>\n",
       "      <td>CMIP6.ScenarioMIP.FIO-QLNM.FIO-ESM-2-0.ssp126....</td>\n",
       "      <td>ERROR</td>\n",
       "    </tr>\n",
       "    <tr>\n",
       "      <th>hdl:21.14100/b745ba92-cbf1-3612-8764-74fbabebc24a</th>\n",
       "      <td>CMIP6.ScenarioMIP.FIO-QLNM.FIO-ESM-2-0.ssp126....</td>\n",
       "      <td>ERROR</td>\n",
       "    </tr>\n",
       "    <tr>\n",
       "      <th>hdl:21.14100/7678da2b-d112-365d-8c69-af7c4a307c7c</th>\n",
       "      <td>CMIP6.ScenarioMIP.NCAR.CESM2-WACCM.ssp370.r1i1...</td>\n",
       "      <td>ERROR</td>\n",
       "    </tr>\n",
       "    <tr>\n",
       "      <th>hdl:21.14100/cb38e86b-9466-3c66-8090-9c88e0363e11</th>\n",
       "      <td>CMIP6.CMIP.NCC.NorESM2-LM.historical.r1i1p1f1....</td>\n",
       "      <td>ERROR</td>\n",
       "    </tr>\n",
       "  </tbody>\n",
       "</table>\n",
       "<p>905 rows × 2 columns</p>\n",
       "</div>"
      ],
      "text/plain": [
       "                                                                                             dset_id  \\\n",
       "pid                                                                                                    \n",
       "hdl:21.14100/9c721b03-8789-3e90-ad61-76045e5dcaf1  CMIP6.ScenarioMIP.IPSL.IPSL-CM6A-LR.ssp434.r1i...   \n",
       "hdl:21.14100/9233828e-782f-328b-a3e4-38965e69eb08  CMIP6.ScenarioMIP.IPSL.IPSL-CM6A-LR.ssp245.r1i...   \n",
       "hdl:21.14100/0a682a4a-e720-367c-957f-e82d13b2b304  CMIP6.ScenarioMIP.IPSL.IPSL-CM6A-LR.ssp245.r1i...   \n",
       "hdl:21.14100/af5fc835-3047-32b5-8500-4a868e8660a0  CMIP6.ScenarioMIP.IPSL.IPSL-CM6A-LR.ssp534-ove...   \n",
       "hdl:21.14100/37272d35-0a59-37f0-8f42-fdf80f7039ec  CMIP6.ScenarioMIP.IPSL.IPSL-CM6A-LR.ssp585.r1i...   \n",
       "...                                                                                              ...   \n",
       "hdl:21.14100/fde1d1b4-23ed-378b-8e41-ac6b5330c18d  CMIP6.ScenarioMIP.FIO-QLNM.FIO-ESM-2-0.ssp126....   \n",
       "hdl:21.14100/4b9b913e-71fd-3e68-b6c6-09407ec25ba3  CMIP6.ScenarioMIP.FIO-QLNM.FIO-ESM-2-0.ssp126....   \n",
       "hdl:21.14100/b745ba92-cbf1-3612-8764-74fbabebc24a  CMIP6.ScenarioMIP.FIO-QLNM.FIO-ESM-2-0.ssp126....   \n",
       "hdl:21.14100/7678da2b-d112-365d-8c69-af7c4a307c7c  CMIP6.ScenarioMIP.NCAR.CESM2-WACCM.ssp370.r1i1...   \n",
       "hdl:21.14100/cb38e86b-9466-3c66-8090-9c88e0363e11  CMIP6.CMIP.NCC.NorESM2-LM.historical.r1i1p1f1....   \n",
       "\n",
       "                                                  qc_status  \n",
       "pid                                                          \n",
       "hdl:21.14100/9c721b03-8789-3e90-ad61-76045e5dcaf1     ERROR  \n",
       "hdl:21.14100/9233828e-782f-328b-a3e4-38965e69eb08     ERROR  \n",
       "hdl:21.14100/0a682a4a-e720-367c-957f-e82d13b2b304     ERROR  \n",
       "hdl:21.14100/af5fc835-3047-32b5-8500-4a868e8660a0     ERROR  \n",
       "hdl:21.14100/37272d35-0a59-37f0-8f42-fdf80f7039ec     ERROR  \n",
       "...                                                     ...  \n",
       "hdl:21.14100/fde1d1b4-23ed-378b-8e41-ac6b5330c18d     ERROR  \n",
       "hdl:21.14100/4b9b913e-71fd-3e68-b6c6-09407ec25ba3     ERROR  \n",
       "hdl:21.14100/b745ba92-cbf1-3612-8764-74fbabebc24a     ERROR  \n",
       "hdl:21.14100/7678da2b-d112-365d-8c69-af7c4a307c7c     ERROR  \n",
       "hdl:21.14100/cb38e86b-9466-3c66-8090-9c88e0363e11     ERROR  \n",
       "\n",
       "[905 rows x 2 columns]"
      ]
     },
     "execution_count": 62,
     "metadata": {},
     "output_type": "execute_result"
    }
   ],
   "source": [
    "c3s_qc_prepare_firstdelivery[c3s_qc_prepare_firstdelivery[\"qc_status\"] != \"pass\"]"
   ]
  },
  {
   "cell_type": "code",
   "execution_count": 66,
   "metadata": {},
   "outputs": [],
   "source": [
    "c3s_qc_prepare_firstdelivery.to_json(\"/home/dkrz/k204210/catalog-to-manifest/\", orient=\"index\")"
   ]
  },
  {
   "cell_type": "code",
   "execution_count": null,
   "metadata": {},
   "outputs": [],
   "source": [
    "c3serr = c3s_qc_prepare[c3s_qc_prepare[\"failed\"]!= 0]"
   ]
  },
  {
   "cell_type": "code",
   "execution_count": null,
   "metadata": {},
   "outputs": [],
   "source": [
    "print(len(c3serr))"
   ]
  },
  {
   "cell_type": "code",
   "execution_count": null,
   "metadata": {},
   "outputs": [],
   "source": [
    "c3serrgb = c3serr.groupby(\"errors\")"
   ]
  },
  {
   "cell_type": "code",
   "execution_count": null,
   "metadata": {},
   "outputs": [],
   "source": [
    "print(c3serr[c3serr['errors'] == ()][\"logfile_name\"].tolist())"
   ]
  },
  {
   "cell_type": "code",
   "execution_count": null,
   "metadata": {},
   "outputs": [],
   "source": [
    "print(c3serr[c3serr['errors'].str.contains(\"SKIPPED\")])"
   ]
  },
  {
   "cell_type": "code",
   "execution_count": null,
   "metadata": {},
   "outputs": [],
   "source": []
  }
 ],
 "metadata": {
  "kernelspec": {
   "display_name": "Python [conda env:root] *",
   "language": "python",
   "name": "conda-root-py"
  },
  "language_info": {
   "codemirror_mode": {
    "name": "ipython",
    "version": 3
   },
   "file_extension": ".py",
   "mimetype": "text/x-python",
   "name": "python",
   "nbconvert_exporter": "python",
   "pygments_lexer": "ipython3",
   "version": "3.7.3"
  }
 },
 "nbformat": 4,
 "nbformat_minor": 4
}
